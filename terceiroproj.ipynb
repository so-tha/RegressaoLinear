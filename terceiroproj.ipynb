{
 "cells": [
  {
   "cell_type": "markdown",
   "metadata": {},
   "source": [
    "Coleta de Dados:\n",
    "\n",
    "Busque uma base de dados que seja apropriada para um problema de regressão linear simples. A base deve conter pelo menos uma variável dependente e uma variável independente.\n",
    "\n"
   ]
  },
  {
   "cell_type": "code",
   "execution_count": null,
   "metadata": {},
   "outputs": [
    {
     "ename": "",
     "evalue": "",
     "output_type": "error",
     "traceback": [
      "\u001b[1;31mRunning cells with '/usr/bin/python' requires the ipykernel package.\n",
      "\u001b[1;31mRun the following command to install 'ipykernel' into the Python environment. \n",
      "\u001b[1;31mCommand: '/usr/bin/python -m pip install ipykernel -U --user --force-reinstall'"
     ]
    }
   ],
   "source": [
    "import pandas as pd\n",
    "\n",
    "df = pd.read_csv('Salary_dataset.csv')\n",
    "\n",
    "df.head(10)"
   ]
  },
  {
   "cell_type": "markdown",
   "metadata": {},
   "source": [
    "Pré-processamento de Dados:\n",
    "\n",
    "Elementos Faltantes: Preencha ou remova quaisquer elementos faltantes na base de dados (caso existam).\n",
    "\n",
    "Variáveis Categóricas: Se houver variáveis categóricas, transforme-as em variáveis numéricas.\n",
    "\n",
    "Normalização: Normalize as variáveis se necessário.\n",
    "\n",
    "Separação de Dados: Divida a base em conjuntos de treino e teste."
   ]
  },
  {
   "cell_type": "code",
   "execution_count": 8,
   "metadata": {},
   "outputs": [
    {
     "data": {
      "text/plain": [
       "YearsExperience    0\n",
       "Salary             0\n",
       "dtype: int64"
      ]
     },
     "execution_count": 8,
     "metadata": {},
     "output_type": "execute_result"
    }
   ],
   "source": [
    "df.isnull().sum()\n",
    "#Checando Valores nulos, e chegando a conclusão que não possui nenhum.\n",
    "#Não possui variaves categoricas"
   ]
  },
  {
   "cell_type": "markdown",
   "metadata": {},
   "source": [
    "Normalizando as variaveis e as dividindo em conjunto de treino e teste."
   ]
  },
  {
   "cell_type": "code",
   "execution_count": null,
   "metadata": {},
   "outputs": [],
   "source": [
    "from sklearn.preprocessing import StandardScaler\n",
    "\n",
    "# Separando as variáveis de entrada (YearsExperience) e saída (Salary)\n",
    "X = df[['YearsExperience']]\n",
    "y = df['Salary']\n",
    "\n",
    "# Criando o objeto para a padronização\n",
    "scaler = StandardScaler()\n",
    "\n",
    "# Ajustando e transformando os dados de entrada\n",
    "X = scaler.fit_transform(X)\n",
    "\n",
    "# Convertendo os dados de saída de volta para um DataFrame\n",
    "y = pd.DataFrame(y, columns=['Salary'])\n",
    "\n",
    "# Juntando os dados normalizados em um único DataFrame\n",
    "df_normalized = pd.DataFrame({'YearsExperience': X.flatten()})\n",
    "df_normalized = pd.concat([df_normalized, y], axis=1)\n"
   ]
  },
  {
   "cell_type": "code",
   "execution_count": null,
   "metadata": {},
   "outputs": [],
   "source": [
    "from sklearn.model_selection import train_test_split\n",
    "\n",
    "# Dividindo os dados em treinamento (80%) e teste (20%)\n",
    "X_train, X_test, y_train, y_test = train_test_split(X, y, test_size=0.2, random_state=42)\n"
   ]
  },
  {
   "cell_type": "markdown",
   "metadata": {},
   "source": [
    "Modelagem e Treino:\n",
    "\n",
    "Utilize a base de treino para criar e treinar um modelo de regressão linear simples."
   ]
  },
  {
   "cell_type": "code",
   "execution_count": null,
   "metadata": {},
   "outputs": [],
   "source": [
    "from sklearn.linear_model import LinearRegression\n",
    "\n",
    "# Criando o modelo de regressão linear\n",
    "model = LinearRegression()\n",
    "\n",
    "# Treinando o modelo com os dados de treinamento\n",
    "model.fit(X_train, y_train)\n",
    "\n",
    "# Avaliando o desempenho do modelo nos dados de treinamento\n",
    "train_score = model.score(X_train, y_train)\n",
    "print(\"Coeficiente de determinação (R²) nos dados de treinamento:\", train_score)\n"
   ]
  },
  {
   "cell_type": "markdown",
   "metadata": {},
   "source": [
    "Avaliação de Modelo:\n",
    "\n",
    "Utilize a base de teste para fazer previsões.\n",
    "\n",
    "Calcule a métrica RMSE (Root Mean Square Error) para avaliar o desempenho do modelo."
   ]
  },
  {
   "cell_type": "code",
   "execution_count": null,
   "metadata": {},
   "outputs": [],
   "source": [
    "from sklearn.metrics import mean_squared_error\n",
    "import numpy as np\n",
    "\n",
    "# Fazendo previsões nos dados de teste\n",
    "y_pred = model.predict(X_test)\n",
    "\n",
    "# Calculando o RMSE\n",
    "rmse = np.sqrt(mean_squared_error(y_test, y_pred))\n",
    "print(\"RMSE:\", rmse)\n"
   ]
  },
  {
   "cell_type": "markdown",
   "metadata": {},
   "source": [
    "Visualização:\n",
    "\n",
    "Gere um gráfico plotando os pontos do conjunto de teste e desenhe a reta de regressão gerada pelo modelo.\n",
    "\n"
   ]
  },
  {
   "cell_type": "code",
   "execution_count": null,
   "metadata": {},
   "outputs": [],
   "source": [
    "import matplotlib.pyplot as plt\n",
    "\n",
    "# Plot dos pontos do conjunto de teste\n",
    "plt.scatter(X_test, y_test, label='Dados de Teste', color='blue')\n",
    "\n",
    "# Plot da reta de regressão gerada pelo modelo\n",
    "plt.plot(X_test, y_pred, label='Reta de Regressão', color='red')\n",
    "\n",
    "# Configurações do gráfico\n",
    "plt.title('Regressão Linear Simples')\n",
    "plt.xlabel('YearsExperience (Anos de Experiência)')\n",
    "plt.ylabel('Salary (Salário)')\n",
    "plt.legend()\n",
    "\n",
    "# Mostrar o gráfico\n",
    "plt.show()\n"
   ]
  }
 ],
 "metadata": {
  "kernelspec": {
   "display_name": "Python 3",
   "language": "python",
   "name": "python3"
  },
  "language_info": {
   "codemirror_mode": {
    "name": "ipython",
    "version": 3
   },
   "file_extension": ".py",
   "mimetype": "text/x-python",
   "name": "python",
   "nbconvert_exporter": "python",
   "pygments_lexer": "ipython3",
   "version": "3.11.5"
  },
  "orig_nbformat": 4
 },
 "nbformat": 4,
 "nbformat_minor": 2
}
